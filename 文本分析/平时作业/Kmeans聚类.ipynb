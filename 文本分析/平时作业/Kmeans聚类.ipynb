{
 "cells": [
  {
   "cell_type": "markdown",
   "metadata": {},
   "source": [
    "KMeans聚类步骤：\n",
    "    1.确定k值，选取k个初始均值向量\n",
    "    2.计算样本点到k个初始均值向量的距离（欧氏距离、曼哈顿距离、余弦相似度）\n",
    "    3.划分簇，更新均值向量（簇中心）\n",
    "    4.重复2.3过程，直至簇中心不在变化"
   ]
  },
  {
   "cell_type": "code",
   "execution_count": 1,
   "metadata": {
    "scrolled": true
   },
   "outputs": [],
   "source": [
    "import random \n",
    "import pandas as pd\n",
    "import numpy as np\n",
    "import matplotlib.pyplot as plt\n",
    "import math"
   ]
  },
  {
   "cell_type": "code",
   "execution_count": 2,
   "metadata": {
    "scrolled": false
   },
   "outputs": [
    {
     "name": "stdout",
     "output_type": "stream",
     "text": [
      "(80, 2)\n"
     ]
    },
    {
     "data": {
      "text/html": [
       "<div>\n",
       "<style scoped>\n",
       "    .dataframe tbody tr th:only-of-type {\n",
       "        vertical-align: middle;\n",
       "    }\n",
       "\n",
       "    .dataframe tbody tr th {\n",
       "        vertical-align: top;\n",
       "    }\n",
       "\n",
       "    .dataframe thead th {\n",
       "        text-align: right;\n",
       "    }\n",
       "</style>\n",
       "<table border=\"1\" class=\"dataframe\">\n",
       "  <thead>\n",
       "    <tr style=\"text-align: right;\">\n",
       "      <th></th>\n",
       "      <th>x</th>\n",
       "      <th>y</th>\n",
       "    </tr>\n",
       "  </thead>\n",
       "  <tbody>\n",
       "    <tr>\n",
       "      <th>0</th>\n",
       "      <td>1.658985</td>\n",
       "      <td>4.285136</td>\n",
       "    </tr>\n",
       "    <tr>\n",
       "      <th>1</th>\n",
       "      <td>-3.453687</td>\n",
       "      <td>3.424321</td>\n",
       "    </tr>\n",
       "    <tr>\n",
       "      <th>2</th>\n",
       "      <td>4.838138</td>\n",
       "      <td>1.151539</td>\n",
       "    </tr>\n",
       "    <tr>\n",
       "      <th>3</th>\n",
       "      <td>-5.379713</td>\n",
       "      <td>-3.362104</td>\n",
       "    </tr>\n",
       "    <tr>\n",
       "      <th>4</th>\n",
       "      <td>0.972564</td>\n",
       "      <td>2.924086</td>\n",
       "    </tr>\n",
       "  </tbody>\n",
       "</table>\n",
       "</div>"
      ],
      "text/plain": [
       "          x         y\n",
       "0  1.658985  4.285136\n",
       "1 -3.453687  3.424321\n",
       "2  4.838138  1.151539\n",
       "3 -5.379713 -3.362104\n",
       "4  0.972564  2.924086"
      ]
     },
     "execution_count": 2,
     "metadata": {},
     "output_type": "execute_result"
    }
   ],
   "source": [
    "df = pd.read_csv('testSet.txt',header =None,names=['x','y'],sep='\\t')\n",
    "#查看数据维度\n",
    "print(df.shape)\n",
    "df.head()"
   ]
  },
  {
   "cell_type": "code",
   "execution_count": 3,
   "metadata": {},
   "outputs": [
    {
     "data": {
      "text/plain": [
       "0"
      ]
     },
     "execution_count": 3,
     "metadata": {},
     "output_type": "execute_result"
    }
   ],
   "source": [
    "df.duplicated().sum() # 查看是否有重复值"
   ]
  },
  {
   "cell_type": "code",
   "execution_count": 4,
   "metadata": {},
   "outputs": [
    {
     "data": {
      "text/plain": [
       "x    0\n",
       "y    0\n",
       "dtype: int64"
      ]
     },
     "execution_count": 4,
     "metadata": {},
     "output_type": "execute_result"
    }
   ],
   "source": [
    "df.isnull().sum() # 查看是否有缺失值"
   ]
  },
  {
   "cell_type": "code",
   "execution_count": 5,
   "metadata": {},
   "outputs": [
    {
     "data": {
      "text/html": [
       "<div>\n",
       "<style scoped>\n",
       "    .dataframe tbody tr th:only-of-type {\n",
       "        vertical-align: middle;\n",
       "    }\n",
       "\n",
       "    .dataframe tbody tr th {\n",
       "        vertical-align: top;\n",
       "    }\n",
       "\n",
       "    .dataframe thead th {\n",
       "        text-align: right;\n",
       "    }\n",
       "</style>\n",
       "<table border=\"1\" class=\"dataframe\">\n",
       "  <thead>\n",
       "    <tr style=\"text-align: right;\">\n",
       "      <th></th>\n",
       "      <th>x</th>\n",
       "      <th>y</th>\n",
       "    </tr>\n",
       "  </thead>\n",
       "  <tbody>\n",
       "    <tr>\n",
       "      <th>count</th>\n",
       "      <td>80.000000</td>\n",
       "      <td>80.000000</td>\n",
       "    </tr>\n",
       "    <tr>\n",
       "      <th>mean</th>\n",
       "      <td>-0.103613</td>\n",
       "      <td>0.083090</td>\n",
       "    </tr>\n",
       "    <tr>\n",
       "      <th>std</th>\n",
       "      <td>3.037579</td>\n",
       "      <td>3.052991</td>\n",
       "    </tr>\n",
       "    <tr>\n",
       "      <th>min</th>\n",
       "      <td>-5.379713</td>\n",
       "      <td>-4.232586</td>\n",
       "    </tr>\n",
       "    <tr>\n",
       "      <th>25%</th>\n",
       "      <td>-2.836842</td>\n",
       "      <td>-3.012599</td>\n",
       "    </tr>\n",
       "    <tr>\n",
       "      <th>50%</th>\n",
       "      <td>0.029122</td>\n",
       "      <td>0.955898</td>\n",
       "    </tr>\n",
       "    <tr>\n",
       "      <th>75%</th>\n",
       "      <td>2.635250</td>\n",
       "      <td>2.940614</td>\n",
       "    </tr>\n",
       "    <tr>\n",
       "      <th>max</th>\n",
       "      <td>4.838138</td>\n",
       "      <td>5.190400</td>\n",
       "    </tr>\n",
       "  </tbody>\n",
       "</table>\n",
       "</div>"
      ],
      "text/plain": [
       "               x          y\n",
       "count  80.000000  80.000000\n",
       "mean   -0.103613   0.083090\n",
       "std     3.037579   3.052991\n",
       "min    -5.379713  -4.232586\n",
       "25%    -2.836842  -3.012599\n",
       "50%     0.029122   0.955898\n",
       "75%     2.635250   2.940614\n",
       "max     4.838138   5.190400"
      ]
     },
     "execution_count": 5,
     "metadata": {},
     "output_type": "execute_result"
    }
   ],
   "source": [
    "df.describe()"
   ]
  },
  {
   "cell_type": "code",
   "execution_count": 6,
   "metadata": {
    "scrolled": false
   },
   "outputs": [
    {
     "data": {
      "image/png": "[encoded data removed]",
      "text/plain": [
       "<Figure size 400x300 with 1 Axes>"
      ]
     },
     "metadata": {
      "needs_background": "light"
     },
     "output_type": "display_data"
    }
   ],
   "source": [
    "# 绘制散点图\n",
    "X = df.iloc[:,0]\n",
    "Y = df.iloc[:,1]\n",
    "plt.figure(figsize=(4,3),dpi=100)\n",
    "plt.scatter(X,Y,color='g',marker='.')\n",
    "plt.show()"
   ]
  },
  {
   "cell_type": "code",
   "execution_count": 7,
   "metadata": {
    "scrolled": true
   },
   "outputs": [
    {
     "data": {
      "text/plain": [
       "array([[ 1.658985,  4.285136],\n",
       "       [-3.453687,  3.424321],\n",
       "       [ 4.838138,  1.151539],\n",
       "       [-5.379713, -3.362104],\n",
       "       [ 0.972564,  2.924086],\n",
       "       [-3.567919,  1.531611],\n",
       "       [ 0.450614, -3.302219],\n",
       "       [-3.487105, -1.724432],\n",
       "       [ 2.668759,  1.594842],\n",
       "       [-3.156485,  3.191137],\n",
       "       [ 3.165506, -3.999838],\n",
       "       [-2.786837, -3.099354],\n",
       "       [ 4.208187,  2.984927],\n",
       "       [-2.123337,  2.943366],\n",
       "       [ 0.704199, -0.479481],\n",
       "       [-0.39237 , -3.963704],\n",
       "       [ 2.831667,  1.574018],\n",
       "       [-0.790153,  3.343144],\n",
       "       [ 2.943496, -3.357075],\n",
       "       [-3.195883, -2.283926],\n",
       "       [ 2.336445,  2.875106],\n",
       "       [-1.786345,  2.554248],\n",
       "       [ 2.190101, -1.90602 ],\n",
       "       [-3.403367, -2.778288],\n",
       "       [ 1.778124,  3.880832],\n",
       "       [-1.688346,  2.230267],\n",
       "       [ 2.592976, -2.054368],\n",
       "       [-4.007257, -3.207066],\n",
       "       [ 2.257734,  3.387564],\n",
       "       [-2.679011,  0.785119],\n",
       "       [ 0.939512, -4.023563],\n",
       "       [-3.674424, -2.261084],\n",
       "       [ 2.046259,  2.735279],\n",
       "       [-3.18947 ,  1.780269],\n",
       "       [ 4.372646, -0.822248],\n",
       "       [-2.579316, -3.497576],\n",
       "       [ 1.889034,  5.1904  ],\n",
       "       [-0.798747,  2.185588],\n",
       "       [ 2.83652 , -2.658556],\n",
       "       [-3.837877, -3.253815],\n",
       "       [ 2.096701,  3.886007],\n",
       "       [-2.709034,  2.923887],\n",
       "       [ 3.367037, -3.184789],\n",
       "       [-2.121479, -4.232586],\n",
       "       [ 2.329546,  3.179764],\n",
       "       [-3.284816,  3.273099],\n",
       "       [ 3.091414, -3.815232],\n",
       "       [-3.762093, -2.432191],\n",
       "       [ 3.542056,  2.778832],\n",
       "       [-1.736822,  4.241041],\n",
       "       [ 2.127073, -2.98368 ],\n",
       "       [-4.323818, -3.938116],\n",
       "       [ 3.792121,  5.135768],\n",
       "       [-4.786473,  3.358547],\n",
       "       [ 2.624081, -3.260715],\n",
       "       [-4.009299, -2.978115],\n",
       "       [ 2.493525,  1.96371 ],\n",
       "       [-2.513661,  2.642162],\n",
       "       [ 1.864375, -3.176309],\n",
       "       [-3.171184, -3.572452],\n",
       "       [ 2.89422 ,  2.489128],\n",
       "       [-2.562539,  2.884438],\n",
       "       [ 3.491078, -3.947487],\n",
       "       [-2.565729, -2.012114],\n",
       "       [ 3.332948,  3.983102],\n",
       "       [-1.616805,  3.573188],\n",
       "       [ 2.280615, -2.559444],\n",
       "       [-2.651229, -3.103198],\n",
       "       [ 2.321395,  3.154987],\n",
       "       [-1.685703,  2.939697],\n",
       "       [ 3.031012, -3.620252],\n",
       "       [-4.599622, -2.185829],\n",
       "       [ 4.196223,  1.126677],\n",
       "       [-2.133863,  3.093686],\n",
       "       [ 4.668892, -2.562705],\n",
       "       [-2.793241, -2.149706],\n",
       "       [ 2.884105,  3.043438],\n",
       "       [-2.967647,  2.848696],\n",
       "       [ 4.479332, -1.764772],\n",
       "       [-4.905566, -2.91107 ]])"
      ]
     },
     "execution_count": 7,
     "metadata": {},
     "output_type": "execute_result"
    }
   ],
   "source": [
    "df = np.array(df)\n",
    "df"
   ]
  },
  {
   "cell_type": "code",
   "execution_count": 8,
   "metadata": {},
   "outputs": [
    {
     "data": {
      "text/plain": [
       "array([[-3.53973889, -2.89384326],\n",
       "       [ 2.73184457,  3.01548295],\n",
       "       [-2.46154315,  2.78737555],\n",
       "       [ 2.54140545, -2.87212285]])"
      ]
     },
     "execution_count": 8,
     "metadata": {},
     "output_type": "execute_result"
    }
   ],
   "source": [
    "# 使用sklearn库中自带K均值聚类算法\n",
    "from sklearn.cluster import KMeans\n",
    "KM = KMeans(n_clusters=4,random_state=0).fit(df)\n",
    "KM.cluster_centers_"
   ]
  },
  {
   "cell_type": "code",
   "execution_count": 9,
   "metadata": {},
   "outputs": [],
   "source": [
    "# 随机选择初始聚类中心点\n",
    "def centerpoint(df,k):\n",
    "    CenterPoint = []\n",
    "    CP = df[np.random.choice(df.shape[0],k,replace=False),:] # 从数据集中随机选取k个不同X值及对应Y\n",
    "    CenterPoint.append(CP) # 生成初始聚类中心点    \n",
    "    return CenterPoint"
   ]
  },
  {
   "cell_type": "code",
   "execution_count": 10,
   "metadata": {},
   "outputs": [],
   "source": [
    "# 距离:样本点到聚类中心点的距离算法\n",
    "def odistance(x,cp):# 欧氏距离\n",
    "    return math.sqrt((x[0]-cp[0])*(x[0]-cp[0])+(x[1]-cp[1])*(x[1]-cp[1]))    \n",
    "def mdistance(x,cp):# 曼哈顿距离\n",
    "    return abs(x[0]-cp[0])+abs(x[1]-cp[1])\n",
    "def cdistance(x,cp):# 余弦相似度\n",
    "    return (x[0]*cp[0]+x[1]*cp[1])/(math.sqrt((x[0]*x[0]+x[1]*x[1])*(cp[0]*cp[0]+cp[1]*cp[1])))   "
   ]
  },
  {
   "cell_type": "code",
   "execution_count": 11,
   "metadata": {},
   "outputs": [],
   "source": [
    "# 计算距离，分簇\n",
    "def caldis(df,k,distance,CenterPoint):\n",
    "    # 确定簇类数量，固定簇空间\n",
    "    labels = []\n",
    "    for label in range(4):\n",
    "        labels.append([])\n",
    "    \n",
    "    # 计算距离\n",
    "    dis = []\n",
    "    for data in df:\n",
    "        for cp in CenterPoint:\n",
    "            for i in cp:\n",
    "                dis.append(distance(data,i))# 样本到簇中心的距离\n",
    "    \n",
    "    # 重新构建矩阵，为分簇准备\n",
    "    dis = np.array(dis)\n",
    "    dis = dis.reshape(df.shape[0],k) \n",
    "    \n",
    "    # 计算最小距离及下标，分簇\n",
    "    if distance==odistance or mdistance:\n",
    "        for i in range(df.shape[0]):\n",
    "            l = list(dis[i]).index(min(dis[i]))\n",
    "            labels[l].append(df[i])\n",
    "    elif distance == cdistance:\n",
    "        for i in range(df.shape[0]):\n",
    "            l = list(dis[i]).index(max(dis[i]))\n",
    "            labels[l].append(df[i])\n",
    "    else:\n",
    "        print(\"未录入此类距离\")\n",
    "    print('聚类中心',CenterPoint)\n",
    "    print('簇划分',labels)\n",
    "    \n",
    "    CP1 = recalcp(k,labels) # 计算均值向量\n",
    "    print('均值向量',CP1)\n",
    "    \n",
    "    if (CenterPoint[0] == CP1[0]).all(): # 若数据一一对应，则表明聚类中心不发生变化，迭代可以结束\n",
    "        print('迭代结束，返回聚类中心',CenterPoint)\n",
    "        print('簇划分',labels)\n",
    "    \n",
    "    else:\n",
    "        CenterPoint = CP1 # 若数据存在不同，继续迭代\n",
    "        CenterPoint,labels=caldis(df,k,distance,CenterPoint)\n",
    "    \n",
    "    return CenterPoint,labels"
   ]
  },
  {
   "cell_type": "code",
   "execution_count": 12,
   "metadata": {},
   "outputs": [],
   "source": [
    "# 分簇后对应的均值向量\n",
    "def recalcp(k,labels):\n",
    "    CP1 = []\n",
    "    for i in range(k):\n",
    "        sumx = 0\n",
    "        sumy = 0\n",
    "        for data in labels[i]:\n",
    "            sumx += data[0] # X坐标求和\n",
    "            sumy += data[1] # Y坐标求和\n",
    "        averx = sumx/len(labels[i]) # X均值\n",
    "        avery = sumy/len(labels[i]) # Y均值\n",
    "        CP1.append(list((averx,avery)))\n",
    "        \n",
    "    return [np.array(CP1)] # 返回与CenterPoint相同格式，方便迭代"
   ]
  },
  {
   "cell_type": "code",
   "execution_count": 13,
   "metadata": {},
   "outputs": [
    {
     "name": "stdout",
     "output_type": "stream",
     "text": [
      "聚类中心 [array([[-1.616805,  3.573188],\n",
      "       [ 2.624081, -3.260715],\n",
      "       [ 3.165506, -3.999838],\n",
      "       [ 3.367037, -3.184789]])]\n",
      "簇划分 [[array([1.658985, 4.285136]), array([-3.453687,  3.424321]), array([-5.379713, -3.362104]), array([0.972564, 2.924086]), array([-3.567919,  1.531611]), array([-3.487105, -1.724432]), array([2.668759, 1.594842]), array([-3.156485,  3.191137]), array([4.208187, 2.984927]), array([-2.123337,  2.943366]), array([-0.790153,  3.343144]), array([2.336445, 2.875106]), array([-1.786345,  2.554248]), array([1.778124, 3.880832]), array([-1.688346,  2.230267]), array([2.257734, 3.387564]), array([-2.679011,  0.785119]), array([-3.674424, -2.261084]), array([2.046259, 2.735279]), array([-3.18947 ,  1.780269]), array([1.889034, 5.1904  ]), array([-0.798747,  2.185588]), array([2.096701, 3.886007]), array([-2.709034,  2.923887]), array([2.329546, 3.179764]), array([-3.284816,  3.273099]), array([-3.762093, -2.432191]), array([3.542056, 2.778832]), array([-1.736822,  4.241041]), array([3.792121, 5.135768]), array([-4.786473,  3.358547]), array([2.493525, 1.96371 ]), array([-2.513661,  2.642162]), array([2.89422 , 2.489128]), array([-2.562539,  2.884438]), array([3.332948, 3.983102]), array([-1.616805,  3.573188]), array([2.321395, 3.154987]), array([-1.685703,  2.939697]), array([-4.599622, -2.185829]), array([-2.133863,  3.093686]), array([2.884105, 3.043438]), array([-2.967647,  2.848696]), array([-4.905566, -2.91107 ])], [array([ 0.450614, -3.302219]), array([-2.786837, -3.099354]), array([ 0.704199, -0.479481]), array([-0.39237 , -3.963704]), array([ 2.943496, -3.357075]), array([-3.195883, -2.283926]), array([ 2.190101, -1.90602 ]), array([-3.403367, -2.778288]), array([ 2.592976, -2.054368]), array([-4.007257, -3.207066]), array([ 0.939512, -4.023563]), array([-2.579316, -3.497576]), array([ 2.83652 , -2.658556]), array([-3.837877, -3.253815]), array([-2.121479, -4.232586]), array([ 2.127073, -2.98368 ]), array([-4.323818, -3.938116]), array([ 2.624081, -3.260715]), array([-4.009299, -2.978115]), array([ 1.864375, -3.176309]), array([-3.171184, -3.572452]), array([-2.565729, -2.012114]), array([ 2.280615, -2.559444]), array([-2.651229, -3.103198]), array([-2.793241, -2.149706])], [array([ 3.165506, -3.999838]), array([ 3.091414, -3.815232]), array([ 3.491078, -3.947487]), array([ 3.031012, -3.620252])], [array([4.838138, 1.151539]), array([2.831667, 1.574018]), array([ 4.372646, -0.822248]), array([ 3.367037, -3.184789]), array([4.196223, 1.126677]), array([ 4.668892, -2.562705]), array([ 4.479332, -1.764772])]]\n",
      "均值向量 [array([[-0.67128814,  2.28053884],\n",
      "       [-0.81141296, -2.95325784],\n",
      "       [ 3.1947525 , -3.84570225],\n",
      "       [ 4.107705  , -0.64032571]])]\n",
      "聚类中心 [array([[-0.67128814,  2.28053884],\n",
      "       [-0.81141296, -2.95325784],\n",
      "       [ 3.1947525 , -3.84570225],\n",
      "       [ 4.107705  , -0.64032571]])]\n",
      "簇划分 [[array([1.658985, 4.285136]), array([-3.453687,  3.424321]), array([0.972564, 2.924086]), array([-3.567919,  1.531611]), array([-3.156485,  3.191137]), array([-2.123337,  2.943366]), array([-0.790153,  3.343144]), array([2.336445, 2.875106]), array([-1.786345,  2.554248]), array([1.778124, 3.880832]), array([-1.688346,  2.230267]), array([2.257734, 3.387564]), array([-2.679011,  0.785119]), array([2.046259, 2.735279]), array([-3.18947 ,  1.780269]), array([1.889034, 5.1904  ]), array([-0.798747,  2.185588]), array([2.096701, 3.886007]), array([-2.709034,  2.923887]), array([2.329546, 3.179764]), array([-3.284816,  3.273099]), array([-1.736822,  4.241041]), array([3.792121, 5.135768]), array([-4.786473,  3.358547]), array([-2.513661,  2.642162]), array([-2.562539,  2.884438]), array([3.332948, 3.983102]), array([-1.616805,  3.573188]), array([2.321395, 3.154987]), array([-1.685703,  2.939697]), array([-2.133863,  3.093686]), array([2.884105, 3.043438]), array([-2.967647,  2.848696])], [array([-5.379713, -3.362104]), array([ 0.450614, -3.302219]), array([-3.487105, -1.724432]), array([-2.786837, -3.099354]), array([ 0.704199, -0.479481]), array([-0.39237 , -3.963704]), array([-3.195883, -2.283926]), array([-3.403367, -2.778288]), array([-4.007257, -3.207066]), array([ 0.939512, -4.023563]), array([-3.674424, -2.261084]), array([-2.579316, -3.497576]), array([-3.837877, -3.253815]), array([-2.121479, -4.232586]), array([-3.762093, -2.432191]), array([-4.323818, -3.938116]), array([-4.009299, -2.978115]), array([-3.171184, -3.572452]), array([-2.565729, -2.012114]), array([-2.651229, -3.103198]), array([-4.599622, -2.185829]), array([-2.793241, -2.149706]), array([-4.905566, -2.91107 ])], [array([ 3.165506, -3.999838]), array([ 2.943496, -3.357075]), array([ 2.190101, -1.90602 ]), array([ 2.592976, -2.054368]), array([ 2.83652 , -2.658556]), array([ 3.367037, -3.184789]), array([ 3.091414, -3.815232]), array([ 2.127073, -2.98368 ]), array([ 2.624081, -3.260715]), array([ 1.864375, -3.176309]), array([ 3.491078, -3.947487]), array([ 2.280615, -2.559444]), array([ 3.031012, -3.620252]), array([ 4.668892, -2.562705])], [array([4.838138, 1.151539]), array([2.668759, 1.594842]), array([4.208187, 2.984927]), array([2.831667, 1.574018]), array([ 4.372646, -0.822248]), array([3.542056, 2.778832]), array([2.493525, 1.96371 ]), array([2.89422 , 2.489128]), array([4.196223, 1.126677]), array([ 4.479332, -1.764772])]]\n",
      "均值向量 [array([[-0.59196673,  3.13360545],\n",
      "       [-2.85013409, -2.90226039],\n",
      "       [ 2.87672686, -3.077605  ],\n",
      "       [ 3.6524753 ,  1.3076653 ]])]\n",
      "聚类中心 [array([[-0.59196673,  3.13360545],\n",
      "       [-2.85013409, -2.90226039],\n",
      "       [ 2.87672686, -3.077605  ],\n",
      "       [ 3.6524753 ,  1.3076653 ]])]\n",
      "簇划分 [[array([1.658985, 4.285136]), array([-3.453687,  3.424321]), array([0.972564, 2.924086]), array([-3.567919,  1.531611]), array([-3.156485,  3.191137]), array([-2.123337,  2.943366]), array([-0.790153,  3.343144]), array([-1.786345,  2.554248]), array([1.778124, 3.880832]), array([-1.688346,  2.230267]), array([-2.679011,  0.785119]), array([-3.18947 ,  1.780269]), array([1.889034, 5.1904  ]), array([-0.798747,  2.185588]), array([2.096701, 3.886007]), array([-2.709034,  2.923887]), array([-3.284816,  3.273099]), array([-1.736822,  4.241041]), array([-4.786473,  3.358547]), array([-2.513661,  2.642162]), array([-2.562539,  2.884438]), array([-1.616805,  3.573188]), array([-1.685703,  2.939697]), array([-2.133863,  3.093686]), array([-2.967647,  2.848696])], [array([-5.379713, -3.362104]), array([-3.487105, -1.724432]), array([-2.786837, -3.099354]), array([-0.39237 , -3.963704]), array([-3.195883, -2.283926]), array([-3.403367, -2.778288]), array([-4.007257, -3.207066]), array([-3.674424, -2.261084]), array([-2.579316, -3.497576]), array([-3.837877, -3.253815]), array([-2.121479, -4.232586]), array([-3.762093, -2.432191]), array([-4.323818, -3.938116]), array([-4.009299, -2.978115]), array([-3.171184, -3.572452]), array([-2.565729, -2.012114]), array([-2.651229, -3.103198]), array([-4.599622, -2.185829]), array([-2.793241, -2.149706]), array([-4.905566, -2.91107 ])], [array([ 0.450614, -3.302219]), array([ 3.165506, -3.999838]), array([ 0.704199, -0.479481]), array([ 2.943496, -3.357075]), array([ 2.190101, -1.90602 ]), array([ 2.592976, -2.054368]), array([ 0.939512, -4.023563]), array([ 2.83652 , -2.658556]), array([ 3.367037, -3.184789]), array([ 3.091414, -3.815232]), array([ 2.127073, -2.98368 ]), array([ 2.624081, -3.260715]), array([ 1.864375, -3.176309]), array([ 3.491078, -3.947487]), array([ 2.280615, -2.559444]), array([ 3.031012, -3.620252]), array([ 4.668892, -2.562705]), array([ 4.479332, -1.764772])], [array([4.838138, 1.151539]), array([2.668759, 1.594842]), array([4.208187, 2.984927]), array([2.831667, 1.574018]), array([2.336445, 2.875106]), array([2.257734, 3.387564]), array([2.046259, 2.735279]), array([ 4.372646, -0.822248]), array([2.329546, 3.179764]), array([3.542056, 2.778832]), array([3.792121, 5.135768]), array([2.493525, 1.96371 ]), array([2.89422 , 2.489128]), array([3.332948, 3.983102]), array([2.321395, 3.154987]), array([4.196223, 1.126677]), array([2.884105, 3.043438])]]\n",
      "均值向量 [array([[-1.6334182 ,  3.03655888],\n",
      "       [-3.38237045, -2.9473363 ],\n",
      "       [ 2.60265739, -2.92536139],\n",
      "       [ 3.13799847,  2.49037841]])]\n",
      "聚类中心 [array([[-1.6334182 ,  3.03655888],\n",
      "       [-3.38237045, -2.9473363 ],\n",
      "       [ 2.60265739, -2.92536139],\n",
      "       [ 3.13799847,  2.49037841]])]\n",
      "簇划分 [[array([-3.453687,  3.424321]), array([-3.567919,  1.531611]), array([-3.156485,  3.191137]), array([-2.123337,  2.943366]), array([-0.790153,  3.343144]), array([-1.786345,  2.554248]), array([-1.688346,  2.230267]), array([-2.679011,  0.785119]), array([-3.18947 ,  1.780269]), array([-0.798747,  2.185588]), array([-2.709034,  2.923887]), array([-3.284816,  3.273099]), array([-1.736822,  4.241041]), array([-4.786473,  3.358547]), array([-2.513661,  2.642162]), array([-2.562539,  2.884438]), array([-1.616805,  3.573188]), array([-1.685703,  2.939697]), array([-2.133863,  3.093686]), array([-2.967647,  2.848696])], [array([-5.379713, -3.362104]), array([-3.487105, -1.724432]), array([-2.786837, -3.099354]), array([-0.39237 , -3.963704]), array([-3.195883, -2.283926]), array([-3.403367, -2.778288]), array([-4.007257, -3.207066]), array([-3.674424, -2.261084]), array([-2.579316, -3.497576]), array([-3.837877, -3.253815]), array([-2.121479, -4.232586]), array([-3.762093, -2.432191]), array([-4.323818, -3.938116]), array([-4.009299, -2.978115]), array([-3.171184, -3.572452]), array([-2.565729, -2.012114]), array([-2.651229, -3.103198]), array([-4.599622, -2.185829]), array([-2.793241, -2.149706]), array([-4.905566, -2.91107 ])], [array([ 0.450614, -3.302219]), array([ 3.165506, -3.999838]), array([ 0.704199, -0.479481]), array([ 2.943496, -3.357075]), array([ 2.190101, -1.90602 ]), array([ 2.592976, -2.054368]), array([ 0.939512, -4.023563]), array([ 4.372646, -0.822248]), array([ 2.83652 , -2.658556]), array([ 3.367037, -3.184789]), array([ 3.091414, -3.815232]), array([ 2.127073, -2.98368 ]), array([ 2.624081, -3.260715]), array([ 1.864375, -3.176309]), array([ 3.491078, -3.947487]), array([ 2.280615, -2.559444]), array([ 3.031012, -3.620252]), array([ 4.668892, -2.562705]), array([ 4.479332, -1.764772])], [array([1.658985, 4.285136]), array([4.838138, 1.151539]), array([0.972564, 2.924086]), array([2.668759, 1.594842]), array([4.208187, 2.984927]), array([2.831667, 1.574018]), array([2.336445, 2.875106]), array([1.778124, 3.880832]), array([2.257734, 3.387564]), array([2.046259, 2.735279]), array([1.889034, 5.1904  ]), array([2.096701, 3.886007]), array([2.329546, 3.179764]), array([3.542056, 2.778832]), array([3.792121, 5.135768]), array([2.493525, 1.96371 ]), array([2.89422 , 2.489128]), array([3.332948, 3.983102]), array([2.321395, 3.154987]), array([4.196223, 1.126677]), array([2.884105, 3.043438])]]\n",
      "均值向量 [array([[-2.46154315,  2.78737555],\n",
      "       [-3.38237045, -2.9473363 ],\n",
      "       [ 2.69581468, -2.81467121],\n",
      "       [ 2.73184457,  3.01548295]])]\n",
      "聚类中心 [array([[-2.46154315,  2.78737555],\n",
      "       [-3.38237045, -2.9473363 ],\n",
      "       [ 2.69581468, -2.81467121],\n",
      "       [ 2.73184457,  3.01548295]])]\n",
      "簇划分 [[array([-3.453687,  3.424321]), array([-3.567919,  1.531611]), array([-3.156485,  3.191137]), array([-2.123337,  2.943366]), array([-0.790153,  3.343144]), array([-1.786345,  2.554248]), array([-1.688346,  2.230267]), array([-2.679011,  0.785119]), array([-3.18947 ,  1.780269]), array([-0.798747,  2.185588]), array([-2.709034,  2.923887]), array([-3.284816,  3.273099]), array([-1.736822,  4.241041]), array([-4.786473,  3.358547]), array([-2.513661,  2.642162]), array([-2.562539,  2.884438]), array([-1.616805,  3.573188]), array([-1.685703,  2.939697]), array([-2.133863,  3.093686]), array([-2.967647,  2.848696])], [array([-5.379713, -3.362104]), array([-3.487105, -1.724432]), array([-2.786837, -3.099354]), array([-0.39237 , -3.963704]), array([-3.195883, -2.283926]), array([-3.403367, -2.778288]), array([-4.007257, -3.207066]), array([-3.674424, -2.261084]), array([-2.579316, -3.497576]), array([-3.837877, -3.253815]), array([-2.121479, -4.232586]), array([-3.762093, -2.432191]), array([-4.323818, -3.938116]), array([-4.009299, -2.978115]), array([-3.171184, -3.572452]), array([-2.565729, -2.012114]), array([-2.651229, -3.103198]), array([-4.599622, -2.185829]), array([-2.793241, -2.149706]), array([-4.905566, -2.91107 ])], [array([ 0.450614, -3.302219]), array([ 3.165506, -3.999838]), array([ 0.704199, -0.479481]), array([ 2.943496, -3.357075]), array([ 2.190101, -1.90602 ]), array([ 2.592976, -2.054368]), array([ 0.939512, -4.023563]), array([ 4.372646, -0.822248]), array([ 2.83652 , -2.658556]), array([ 3.367037, -3.184789]), array([ 3.091414, -3.815232]), array([ 2.127073, -2.98368 ]), array([ 2.624081, -3.260715]), array([ 1.864375, -3.176309]), array([ 3.491078, -3.947487]), array([ 2.280615, -2.559444]), array([ 3.031012, -3.620252]), array([ 4.668892, -2.562705]), array([ 4.479332, -1.764772])], [array([1.658985, 4.285136]), array([4.838138, 1.151539]), array([0.972564, 2.924086]), array([2.668759, 1.594842]), array([4.208187, 2.984927]), array([2.831667, 1.574018]), array([2.336445, 2.875106]), array([1.778124, 3.880832]), array([2.257734, 3.387564]), array([2.046259, 2.735279]), array([1.889034, 5.1904  ]), array([2.096701, 3.886007]), array([2.329546, 3.179764]), array([3.542056, 2.778832]), array([3.792121, 5.135768]), array([2.493525, 1.96371 ]), array([2.89422 , 2.489128]), array([3.332948, 3.983102]), array([2.321395, 3.154987]), array([4.196223, 1.126677]), array([2.884105, 3.043438])]]\n",
      "均值向量 [array([[-2.46154315,  2.78737555],\n",
      "       [-3.38237045, -2.9473363 ],\n",
      "       [ 2.69581468, -2.81467121],\n",
      "       [ 2.73184457,  3.01548295]])]\n",
      "迭代结束，返回聚类中心 [array([[-2.46154315,  2.78737555],\n",
      "       [-3.38237045, -2.9473363 ],\n",
      "       [ 2.69581468, -2.81467121],\n",
      "       [ 2.73184457,  3.01548295]])]\n",
      "簇划分 [[array([-3.453687,  3.424321]), array([-3.567919,  1.531611]), array([-3.156485,  3.191137]), array([-2.123337,  2.943366]), array([-0.790153,  3.343144]), array([-1.786345,  2.554248]), array([-1.688346,  2.230267]), array([-2.679011,  0.785119]), array([-3.18947 ,  1.780269]), array([-0.798747,  2.185588]), array([-2.709034,  2.923887]), array([-3.284816,  3.273099]), array([-1.736822,  4.241041]), array([-4.786473,  3.358547]), array([-2.513661,  2.642162]), array([-2.562539,  2.884438]), array([-1.616805,  3.573188]), array([-1.685703,  2.939697]), array([-2.133863,  3.093686]), array([-2.967647,  2.848696])], [array([-5.379713, -3.362104]), array([-3.487105, -1.724432]), array([-2.786837, -3.099354]), array([-0.39237 , -3.963704]), array([-3.195883, -2.283926]), array([-3.403367, -2.778288]), array([-4.007257, -3.207066]), array([-3.674424, -2.261084]), array([-2.579316, -3.497576]), array([-3.837877, -3.253815]), array([-2.121479, -4.232586]), array([-3.762093, -2.432191]), array([-4.323818, -3.938116]), array([-4.009299, -2.978115]), array([-3.171184, -3.572452]), array([-2.565729, -2.012114]), array([-2.651229, -3.103198]), array([-4.599622, -2.185829]), array([-2.793241, -2.149706]), array([-4.905566, -2.91107 ])], [array([ 0.450614, -3.302219]), array([ 3.165506, -3.999838]), array([ 0.704199, -0.479481]), array([ 2.943496, -3.357075]), array([ 2.190101, -1.90602 ]), array([ 2.592976, -2.054368]), array([ 0.939512, -4.023563]), array([ 4.372646, -0.822248]), array([ 2.83652 , -2.658556]), array([ 3.367037, -3.184789]), array([ 3.091414, -3.815232]), array([ 2.127073, -2.98368 ]), array([ 2.624081, -3.260715]), array([ 1.864375, -3.176309]), array([ 3.491078, -3.947487]), array([ 2.280615, -2.559444]), array([ 3.031012, -3.620252]), array([ 4.668892, -2.562705]), array([ 4.479332, -1.764772])], [array([1.658985, 4.285136]), array([4.838138, 1.151539]), array([0.972564, 2.924086]), array([2.668759, 1.594842]), array([4.208187, 2.984927]), array([2.831667, 1.574018]), array([2.336445, 2.875106]), array([1.778124, 3.880832]), array([2.257734, 3.387564]), array([2.046259, 2.735279]), array([1.889034, 5.1904  ]), array([2.096701, 3.886007]), array([2.329546, 3.179764]), array([3.542056, 2.778832]), array([3.792121, 5.135768]), array([2.493525, 1.96371 ]), array([2.89422 , 2.489128]), array([3.332948, 3.983102]), array([2.321395, 3.154987]), array([4.196223, 1.126677]), array([2.884105, 3.043438])]]\n"
     ]
    }
   ],
   "source": [
    "CenterPoint = centerpoint(df,4) \n",
    "CPP,labels = caldis(df,4,odistance,CenterPoint)"
   ]
  },
  {
   "cell_type": "code",
   "execution_count": 14,
   "metadata": {},
   "outputs": [
    {
     "data": {
      "text/plain": [
       "[array([[-2.46154315,  2.78737555],\n",
       "        [-3.38237045, -2.9473363 ],\n",
       "        [ 2.69581468, -2.81467121],\n",
       "        [ 2.73184457,  3.01548295]])]"
      ]
     },
     "execution_count": 14,
     "metadata": {},
     "output_type": "execute_result"
    }
   ],
   "source": [
    "# 聚类中心\n",
    "CPP"
   ]
  },
  {
   "cell_type": "code",
   "execution_count": 15,
   "metadata": {
    "scrolled": true
   },
   "outputs": [
    {
     "data": {
      "text/plain": [
       "[[array([-3.453687,  3.424321]),\n",
       "  array([-3.567919,  1.531611]),\n",
       "  array([-3.156485,  3.191137]),\n",
       "  array([-2.123337,  2.943366]),\n",
       "  array([-0.790153,  3.343144]),\n",
       "  array([-1.786345,  2.554248]),\n",
       "  array([-1.688346,  2.230267]),\n",
       "  array([-2.679011,  0.785119]),\n",
       "  array([-3.18947 ,  1.780269]),\n",
       "  array([-0.798747,  2.185588]),\n",
       "  array([-2.709034,  2.923887]),\n",
       "  array([-3.284816,  3.273099]),\n",
       "  array([-1.736822,  4.241041]),\n",
       "  array([-4.786473,  3.358547]),\n",
       "  array([-2.513661,  2.642162]),\n",
       "  array([-2.562539,  2.884438]),\n",
       "  array([-1.616805,  3.573188]),\n",
       "  array([-1.685703,  2.939697]),\n",
       "  array([-2.133863,  3.093686]),\n",
       "  array([-2.967647,  2.848696])],\n",
       " [array([-5.379713, -3.362104]),\n",
       "  array([-3.487105, -1.724432]),\n",
       "  array([-2.786837, -3.099354]),\n",
       "  array([-0.39237 , -3.963704]),\n",
       "  array([-3.195883, -2.283926]),\n",
       "  array([-3.403367, -2.778288]),\n",
       "  array([-4.007257, -3.207066]),\n",
       "  array([-3.674424, -2.261084]),\n",
       "  array([-2.579316, -3.497576]),\n",
       "  array([-3.837877, -3.253815]),\n",
       "  array([-2.121479, -4.232586]),\n",
       "  array([-3.762093, -2.432191]),\n",
       "  array([-4.323818, -3.938116]),\n",
       "  array([-4.009299, -2.978115]),\n",
       "  array([-3.171184, -3.572452]),\n",
       "  array([-2.565729, -2.012114]),\n",
       "  array([-2.651229, -3.103198]),\n",
       "  array([-4.599622, -2.185829]),\n",
       "  array([-2.793241, -2.149706]),\n",
       "  array([-4.905566, -2.91107 ])],\n",
       " [array([ 0.450614, -3.302219]),\n",
       "  array([ 3.165506, -3.999838]),\n",
       "  array([ 0.704199, -0.479481]),\n",
       "  array([ 2.943496, -3.357075]),\n",
       "  array([ 2.190101, -1.90602 ]),\n",
       "  array([ 2.592976, -2.054368]),\n",
       "  array([ 0.939512, -4.023563]),\n",
       "  array([ 4.372646, -0.822248]),\n",
       "  array([ 2.83652 , -2.658556]),\n",
       "  array([ 3.367037, -3.184789]),\n",
       "  array([ 3.091414, -3.815232]),\n",
       "  array([ 2.127073, -2.98368 ]),\n",
       "  array([ 2.624081, -3.260715]),\n",
       "  array([ 1.864375, -3.176309]),\n",
       "  array([ 3.491078, -3.947487]),\n",
       "  array([ 2.280615, -2.559444]),\n",
       "  array([ 3.031012, -3.620252]),\n",
       "  array([ 4.668892, -2.562705]),\n",
       "  array([ 4.479332, -1.764772])],\n",
       " [array([1.658985, 4.285136]),\n",
       "  array([4.838138, 1.151539]),\n",
       "  array([0.972564, 2.924086]),\n",
       "  array([2.668759, 1.594842]),\n",
       "  array([4.208187, 2.984927]),\n",
       "  array([2.831667, 1.574018]),\n",
       "  array([2.336445, 2.875106]),\n",
       "  array([1.778124, 3.880832]),\n",
       "  array([2.257734, 3.387564]),\n",
       "  array([2.046259, 2.735279]),\n",
       "  array([1.889034, 5.1904  ]),\n",
       "  array([2.096701, 3.886007]),\n",
       "  array([2.329546, 3.179764]),\n",
       "  array([3.542056, 2.778832]),\n",
       "  array([3.792121, 5.135768]),\n",
       "  array([2.493525, 1.96371 ]),\n",
       "  array([2.89422 , 2.489128]),\n",
       "  array([3.332948, 3.983102]),\n",
       "  array([2.321395, 3.154987]),\n",
       "  array([4.196223, 1.126677]),\n",
       "  array([2.884105, 3.043438])]]"
      ]
     },
     "execution_count": 15,
     "metadata": {},
     "output_type": "execute_result"
    }
   ],
   "source": [
    "# 分簇结果\n",
    "labels"
   ]
  },
  {
   "cell_type": "code",
   "execution_count": 16,
   "metadata": {
    "scrolled": true
   },
   "outputs": [],
   "source": [
    "# 获得数据的x,y,并贴标签\n",
    "ll=[]\n",
    "for i in range(len(labels)):\n",
    "    df1 = pd.DataFrame(labels[i])\n",
    "    df1['label'] = i\n",
    "    ll.append(df1)\n",
    "\n",
    "X,Y,L = [],[],[]\n",
    "for i in range(len(ll)):\n",
    "    x = list(ll[i].iloc[:,0])\n",
    "    X.append(x)\n",
    "    y = list(ll[i].iloc[:,1])\n",
    "    Y.append(y)\n",
    "    l = list(ll[i].iloc[:,2])\n",
    "    L.append(l)"
   ]
  },
  {
   "cell_type": "code",
   "execution_count": 21,
   "metadata": {
    "scrolled": true
   },
   "outputs": [
    {
     "data": {
      "text/plain": [
       "[           0         1  label\n",
       " 0  -3.453687  3.424321      0\n",
       " 1  -3.567919  1.531611      0\n",
       " 2  -3.156485  3.191137      0\n",
       " 3  -2.123337  2.943366      0\n",
       " 4  -0.790153  3.343144      0\n",
       " 5  -1.786345  2.554248      0\n",
       " 6  -1.688346  2.230267      0\n",
       " 7  -2.679011  0.785119      0\n",
       " 8  -3.189470  1.780269      0\n",
       " 9  -0.798747  2.185588      0\n",
       " 10 -2.709034  2.923887      0\n",
       " 11 -3.284816  3.273099      0\n",
       " 12 -1.736822  4.241041      0\n",
       " 13 -4.786473  3.358547      0\n",
       " 14 -2.513661  2.642162      0\n",
       " 15 -2.562539  2.884438      0\n",
       " 16 -1.616805  3.573188      0\n",
       " 17 -1.685703  2.939697      0\n",
       " 18 -2.133863  3.093686      0\n",
       " 19 -2.967647  2.848696      0,\n",
       "            0         1  label\n",
       " 0  -5.379713 -3.362104      1\n",
       " 1  -3.487105 -1.724432      1\n",
       " 2  -2.786837 -3.099354      1\n",
       " 3  -0.392370 -3.963704      1\n",
       " 4  -3.195883 -2.283926      1\n",
       " 5  -3.403367 -2.778288      1\n",
       " 6  -4.007257 -3.207066      1\n",
       " 7  -3.674424 -2.261084      1\n",
       " 8  -2.579316 -3.497576      1\n",
       " 9  -3.837877 -3.253815      1\n",
       " 10 -2.121479 -4.232586      1\n",
       " 11 -3.762093 -2.432191      1\n",
       " 12 -4.323818 -3.938116      1\n",
       " 13 -4.009299 -2.978115      1\n",
       " 14 -3.171184 -3.572452      1\n",
       " 15 -2.565729 -2.012114      1\n",
       " 16 -2.651229 -3.103198      1\n",
       " 17 -4.599622 -2.185829      1\n",
       " 18 -2.793241 -2.149706      1\n",
       " 19 -4.905566 -2.911070      1,\n",
       "            0         1  label\n",
       " 0   0.450614 -3.302219      2\n",
       " 1   3.165506 -3.999838      2\n",
       " 2   0.704199 -0.479481      2\n",
       " 3   2.943496 -3.357075      2\n",
       " 4   2.190101 -1.906020      2\n",
       " 5   2.592976 -2.054368      2\n",
       " 6   0.939512 -4.023563      2\n",
       " 7   4.372646 -0.822248      2\n",
       " 8   2.836520 -2.658556      2\n",
       " 9   3.367037 -3.184789      2\n",
       " 10  3.091414 -3.815232      2\n",
       " 11  2.127073 -2.983680      2\n",
       " 12  2.624081 -3.260715      2\n",
       " 13  1.864375 -3.176309      2\n",
       " 14  3.491078 -3.947487      2\n",
       " 15  2.280615 -2.559444      2\n",
       " 16  3.031012 -3.620252      2\n",
       " 17  4.668892 -2.562705      2\n",
       " 18  4.479332 -1.764772      2,\n",
       "            0         1  label\n",
       " 0   1.658985  4.285136      3\n",
       " 1   4.838138  1.151539      3\n",
       " 2   0.972564  2.924086      3\n",
       " 3   2.668759  1.594842      3\n",
       " 4   4.208187  2.984927      3\n",
       " 5   2.831667  1.574018      3\n",
       " 6   2.336445  2.875106      3\n",
       " 7   1.778124  3.880832      3\n",
       " 8   2.257734  3.387564      3\n",
       " 9   2.046259  2.735279      3\n",
       " 10  1.889034  5.190400      3\n",
       " 11  2.096701  3.886007      3\n",
       " 12  2.329546  3.179764      3\n",
       " 13  3.542056  2.778832      3\n",
       " 14  3.792121  5.135768      3\n",
       " 15  2.493525  1.963710      3\n",
       " 16  2.894220  2.489128      3\n",
       " 17  3.332948  3.983102      3\n",
       " 18  2.321395  3.154987      3\n",
       " 19  4.196223  1.126677      3\n",
       " 20  2.884105  3.043438      3]"
      ]
     },
     "execution_count": 21,
     "metadata": {},
     "output_type": "execute_result"
    }
   ],
   "source": [
    "ll"
   ]
  },
  {
   "cell_type": "code",
   "execution_count": 18,
   "metadata": {},
   "outputs": [
    {
     "data": {
      "image/png": "[encoded data removed]",
      "text/plain": [
       "<Figure size 432x288 with 1 Axes>"
      ]
     },
     "metadata": {
      "needs_background": "light"
     },
     "output_type": "display_data"
    }
   ],
   "source": [
    "# 绘制散点图\n",
    "colors =['r','g','y','b']\n",
    "for i in range(len(L)):\n",
    "    #X[i],Y[i],L[i]\n",
    "    plt.scatter(X[i],Y[i],c=colors[i])\n",
    "plt.show()\n",
    "    "
   ]
  },
  {
   "cell_type": "code",
   "execution_count": null,
   "metadata": {},
   "outputs": [],
   "source": []
  }
 ],
 "metadata": {
  "kernelspec": {
   "display_name": "Python 3",
   "language": "python",
   "name": "python3"
  },
  "language_info": {
   "codemirror_mode": {
    "name": "ipython",
    "version": 3
   },
   "file_extension": ".py",
   "mimetype": "text/x-python",
   "name": "python",
   "nbconvert_exporter": "python",
   "pygments_lexer": "ipython3",
   "version": "3.8.5"
  }
 },
 "nbformat": 4,
 "nbformat_minor": 4
}
