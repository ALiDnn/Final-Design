{
 "cells": [
  {
   "cell_type": "code",
   "execution_count": 18,
   "metadata": {},
   "outputs": [
    {
     "data": {
      "text/html": [
       "<div>\n",
       "<style scoped>\n",
       "    .dataframe tbody tr th:only-of-type {\n",
       "        vertical-align: middle;\n",
       "    }\n",
       "\n",
       "    .dataframe tbody tr th {\n",
       "        vertical-align: top;\n",
       "    }\n",
       "\n",
       "    .dataframe thead th {\n",
       "        text-align: right;\n",
       "    }\n",
       "</style>\n",
       "<table border=\"1\" class=\"dataframe\">\n",
       "  <thead>\n",
       "    <tr style=\"text-align: right;\">\n",
       "      <th></th>\n",
       "      <th>tw_topic</th>\n",
       "      <th>tw_wordnum</th>\n",
       "      <th>tw_senword_num</th>\n",
       "      <th>tw_flu</th>\n",
       "      <th>fbz_fan_num</th>\n",
       "      <th>fbz_tweet_num</th>\n",
       "      <th>fbz_label_num</th>\n",
       "      <th>fbz_bei_zhfa_pj_num</th>\n",
       "      <th>fbz_bei_pingl_pj_num</th>\n",
       "      <th>fbz_bei_zan_pj_num</th>\n",
       "      <th>zfz_fan_num</th>\n",
       "      <th>zfz_guanzh_num</th>\n",
       "      <th>zfz_zf_lv</th>\n",
       "      <th>zfz_active</th>\n",
       "      <th>zfz_guanzhu_interest</th>\n",
       "      <th>afz_retweet_interest</th>\n",
       "      <th>re_result</th>\n",
       "    </tr>\n",
       "  </thead>\n",
       "  <tbody>\n",
       "    <tr>\n",
       "      <th>0</th>\n",
       "      <td>1</td>\n",
       "      <td>24</td>\n",
       "      <td>5</td>\n",
       "      <td>0</td>\n",
       "      <td>5549425</td>\n",
       "      <td>3848</td>\n",
       "      <td>0</td>\n",
       "      <td>32</td>\n",
       "      <td>141</td>\n",
       "      <td>863</td>\n",
       "      <td>13112</td>\n",
       "      <td>189</td>\n",
       "      <td>0.08163</td>\n",
       "      <td>0.49</td>\n",
       "      <td>0.00000</td>\n",
       "      <td>0.01818</td>\n",
       "      <td>0</td>\n",
       "    </tr>\n",
       "    <tr>\n",
       "      <th>1</th>\n",
       "      <td>1</td>\n",
       "      <td>19</td>\n",
       "      <td>2</td>\n",
       "      <td>0</td>\n",
       "      <td>2333481</td>\n",
       "      <td>1103</td>\n",
       "      <td>6</td>\n",
       "      <td>1681</td>\n",
       "      <td>752</td>\n",
       "      <td>1977</td>\n",
       "      <td>13112</td>\n",
       "      <td>189</td>\n",
       "      <td>0.08163</td>\n",
       "      <td>0.49</td>\n",
       "      <td>0.00000</td>\n",
       "      <td>0.00000</td>\n",
       "      <td>0</td>\n",
       "    </tr>\n",
       "    <tr>\n",
       "      <th>2</th>\n",
       "      <td>1</td>\n",
       "      <td>27</td>\n",
       "      <td>1</td>\n",
       "      <td>0</td>\n",
       "      <td>2333481</td>\n",
       "      <td>1103</td>\n",
       "      <td>6</td>\n",
       "      <td>1681</td>\n",
       "      <td>752</td>\n",
       "      <td>1977</td>\n",
       "      <td>13112</td>\n",
       "      <td>189</td>\n",
       "      <td>0.08163</td>\n",
       "      <td>0.49</td>\n",
       "      <td>0.00000</td>\n",
       "      <td>0.00889</td>\n",
       "      <td>0</td>\n",
       "    </tr>\n",
       "    <tr>\n",
       "      <th>3</th>\n",
       "      <td>1</td>\n",
       "      <td>4</td>\n",
       "      <td>1</td>\n",
       "      <td>0</td>\n",
       "      <td>26867988</td>\n",
       "      <td>860</td>\n",
       "      <td>0</td>\n",
       "      <td>250331</td>\n",
       "      <td>31483</td>\n",
       "      <td>149796</td>\n",
       "      <td>13112</td>\n",
       "      <td>189</td>\n",
       "      <td>0.08163</td>\n",
       "      <td>0.49</td>\n",
       "      <td>0.00000</td>\n",
       "      <td>0.00000</td>\n",
       "      <td>0</td>\n",
       "    </tr>\n",
       "    <tr>\n",
       "      <th>4</th>\n",
       "      <td>2</td>\n",
       "      <td>20</td>\n",
       "      <td>5</td>\n",
       "      <td>0</td>\n",
       "      <td>26867988</td>\n",
       "      <td>860</td>\n",
       "      <td>0</td>\n",
       "      <td>250331</td>\n",
       "      <td>31483</td>\n",
       "      <td>149796</td>\n",
       "      <td>13112</td>\n",
       "      <td>189</td>\n",
       "      <td>0.08163</td>\n",
       "      <td>0.49</td>\n",
       "      <td>0.00000</td>\n",
       "      <td>0.00917</td>\n",
       "      <td>0</td>\n",
       "    </tr>\n",
       "    <tr>\n",
       "      <th>...</th>\n",
       "      <td>...</td>\n",
       "      <td>...</td>\n",
       "      <td>...</td>\n",
       "      <td>...</td>\n",
       "      <td>...</td>\n",
       "      <td>...</td>\n",
       "      <td>...</td>\n",
       "      <td>...</td>\n",
       "      <td>...</td>\n",
       "      <td>...</td>\n",
       "      <td>...</td>\n",
       "      <td>...</td>\n",
       "      <td>...</td>\n",
       "      <td>...</td>\n",
       "      <td>...</td>\n",
       "      <td>...</td>\n",
       "      <td>...</td>\n",
       "    </tr>\n",
       "    <tr>\n",
       "      <th>194390</th>\n",
       "      <td>1</td>\n",
       "      <td>41</td>\n",
       "      <td>4</td>\n",
       "      <td>2</td>\n",
       "      <td>17545394</td>\n",
       "      <td>45300</td>\n",
       "      <td>0</td>\n",
       "      <td>14749</td>\n",
       "      <td>8500</td>\n",
       "      <td>20153</td>\n",
       "      <td>6091480</td>\n",
       "      <td>339</td>\n",
       "      <td>0.89583</td>\n",
       "      <td>0.54</td>\n",
       "      <td>0.09302</td>\n",
       "      <td>0.02075</td>\n",
       "      <td>1</td>\n",
       "    </tr>\n",
       "    <tr>\n",
       "      <th>194391</th>\n",
       "      <td>1</td>\n",
       "      <td>51</td>\n",
       "      <td>3</td>\n",
       "      <td>2</td>\n",
       "      <td>17545394</td>\n",
       "      <td>45300</td>\n",
       "      <td>0</td>\n",
       "      <td>14749</td>\n",
       "      <td>8500</td>\n",
       "      <td>20153</td>\n",
       "      <td>6091480</td>\n",
       "      <td>339</td>\n",
       "      <td>0.89583</td>\n",
       "      <td>0.54</td>\n",
       "      <td>0.09302</td>\n",
       "      <td>0.01619</td>\n",
       "      <td>1</td>\n",
       "    </tr>\n",
       "    <tr>\n",
       "      <th>194392</th>\n",
       "      <td>1</td>\n",
       "      <td>82</td>\n",
       "      <td>11</td>\n",
       "      <td>1</td>\n",
       "      <td>629886</td>\n",
       "      <td>39790</td>\n",
       "      <td>0</td>\n",
       "      <td>6195</td>\n",
       "      <td>547</td>\n",
       "      <td>3350</td>\n",
       "      <td>629886</td>\n",
       "      <td>1120</td>\n",
       "      <td>0.35849</td>\n",
       "      <td>0.73</td>\n",
       "      <td>0.57895</td>\n",
       "      <td>0.04059</td>\n",
       "      <td>1</td>\n",
       "    </tr>\n",
       "    <tr>\n",
       "      <th>194393</th>\n",
       "      <td>0</td>\n",
       "      <td>61</td>\n",
       "      <td>5</td>\n",
       "      <td>1</td>\n",
       "      <td>629886</td>\n",
       "      <td>39790</td>\n",
       "      <td>0</td>\n",
       "      <td>6195</td>\n",
       "      <td>547</td>\n",
       "      <td>3350</td>\n",
       "      <td>629886</td>\n",
       "      <td>1120</td>\n",
       "      <td>0.35849</td>\n",
       "      <td>0.73</td>\n",
       "      <td>0.57895</td>\n",
       "      <td>0.03162</td>\n",
       "      <td>1</td>\n",
       "    </tr>\n",
       "    <tr>\n",
       "      <th>194394</th>\n",
       "      <td>0</td>\n",
       "      <td>9</td>\n",
       "      <td>1</td>\n",
       "      <td>2</td>\n",
       "      <td>54720387</td>\n",
       "      <td>2405</td>\n",
       "      <td>0</td>\n",
       "      <td>274902</td>\n",
       "      <td>61474</td>\n",
       "      <td>327936</td>\n",
       "      <td>7759</td>\n",
       "      <td>197</td>\n",
       "      <td>0.02041</td>\n",
       "      <td>0.49</td>\n",
       "      <td>1.00000</td>\n",
       "      <td>0.00000</td>\n",
       "      <td>1</td>\n",
       "    </tr>\n",
       "  </tbody>\n",
       "</table>\n",
       "<p>194395 rows × 17 columns</p>\n",
       "</div>"
      ],
      "text/plain": [
       "        tw_topic  tw_wordnum  tw_senword_num  tw_flu  fbz_fan_num  \\\n",
       "0              1          24               5       0      5549425   \n",
       "1              1          19               2       0      2333481   \n",
       "2              1          27               1       0      2333481   \n",
       "3              1           4               1       0     26867988   \n",
       "4              2          20               5       0     26867988   \n",
       "...          ...         ...             ...     ...          ...   \n",
       "194390         1          41               4       2     17545394   \n",
       "194391         1          51               3       2     17545394   \n",
       "194392         1          82              11       1       629886   \n",
       "194393         0          61               5       1       629886   \n",
       "194394         0           9               1       2     54720387   \n",
       "\n",
       "        fbz_tweet_num  fbz_label_num  fbz_bei_zhfa_pj_num  \\\n",
       "0                3848              0                   32   \n",
       "1                1103              6                 1681   \n",
       "2                1103              6                 1681   \n",
       "3                 860              0               250331   \n",
       "4                 860              0               250331   \n",
       "...               ...            ...                  ...   \n",
       "194390          45300              0                14749   \n",
       "194391          45300              0                14749   \n",
       "194392          39790              0                 6195   \n",
       "194393          39790              0                 6195   \n",
       "194394           2405              0               274902   \n",
       "\n",
       "        fbz_bei_pingl_pj_num  fbz_bei_zan_pj_num  zfz_fan_num  zfz_guanzh_num  \\\n",
       "0                        141                 863        13112             189   \n",
       "1                        752                1977        13112             189   \n",
       "2                        752                1977        13112             189   \n",
       "3                      31483              149796        13112             189   \n",
       "4                      31483              149796        13112             189   \n",
       "...                      ...                 ...          ...             ...   \n",
       "194390                  8500               20153      6091480             339   \n",
       "194391                  8500               20153      6091480             339   \n",
       "194392                   547                3350       629886            1120   \n",
       "194393                   547                3350       629886            1120   \n",
       "194394                 61474              327936         7759             197   \n",
       "\n",
       "        zfz_zf_lv  zfz_active  zfz_guanzhu_interest  afz_retweet_interest  \\\n",
       "0         0.08163        0.49               0.00000               0.01818   \n",
       "1         0.08163        0.49               0.00000               0.00000   \n",
       "2         0.08163        0.49               0.00000               0.00889   \n",
       "3         0.08163        0.49               0.00000               0.00000   \n",
       "4         0.08163        0.49               0.00000               0.00917   \n",
       "...           ...         ...                   ...                   ...   \n",
       "194390    0.89583        0.54               0.09302               0.02075   \n",
       "194391    0.89583        0.54               0.09302               0.01619   \n",
       "194392    0.35849        0.73               0.57895               0.04059   \n",
       "194393    0.35849        0.73               0.57895               0.03162   \n",
       "194394    0.02041        0.49               1.00000               0.00000   \n",
       "\n",
       "        re_result  \n",
       "0               0  \n",
       "1               0  \n",
       "2               0  \n",
       "3               0  \n",
       "4               0  \n",
       "...           ...  \n",
       "194390          1  \n",
       "194391          1  \n",
       "194392          1  \n",
       "194393          1  \n",
       "194394          1  \n",
       "\n",
       "[194395 rows x 17 columns]"
      ]
     },
     "execution_count": 18,
     "metadata": {},
     "output_type": "execute_result"
    }
   ],
   "source": [
    "import pandas as pd\n",
    "\n",
    "#读入数据\n",
    "df = pd.read_csv('quanbu_lr-17-yuanshi.csv')\n",
    "df"
   ]
  },
  {
   "cell_type": "code",
   "execution_count": 19,
   "metadata": {},
   "outputs": [
    {
     "data": {
      "text/plain": [
       "tw_topic                0\n",
       "tw_wordnum              0\n",
       "tw_senword_num          0\n",
       "tw_flu                  0\n",
       "fbz_fan_num             0\n",
       "fbz_tweet_num           0\n",
       "fbz_label_num           0\n",
       "fbz_bei_zhfa_pj_num     0\n",
       "fbz_bei_pingl_pj_num    0\n",
       "fbz_bei_zan_pj_num      0\n",
       "zfz_fan_num             0\n",
       "zfz_guanzh_num          0\n",
       "zfz_zf_lv               0\n",
       "zfz_active              0\n",
       "zfz_guanzhu_interest    0\n",
       "afz_retweet_interest    0\n",
       "re_result               0\n",
       "dtype: int64"
      ]
     },
     "execution_count": 19,
     "metadata": {},
     "output_type": "execute_result"
    }
   ],
   "source": [
    "#查看缺失数据\n",
    "df.isnull().sum()"
   ]
  },
  {
   "cell_type": "code",
   "execution_count": 20,
   "metadata": {},
   "outputs": [
    {
     "name": "stdout",
     "output_type": "stream",
     "text": [
      "<class 'pandas.core.frame.DataFrame'>\n",
      "RangeIndex: 194395 entries, 0 to 194394\n",
      "Data columns (total 17 columns):\n",
      " #   Column                Non-Null Count   Dtype  \n",
      "---  ------                --------------   -----  \n",
      " 0   tw_topic              194395 non-null  int64  \n",
      " 1   tw_wordnum            194395 non-null  int64  \n",
      " 2   tw_senword_num        194395 non-null  int64  \n",
      " 3   tw_flu                194395 non-null  int64  \n",
      " 4   fbz_fan_num           194395 non-null  int64  \n",
      " 5   fbz_tweet_num         194395 non-null  int64  \n",
      " 6   fbz_label_num         194395 non-null  int64  \n",
      " 7   fbz_bei_zhfa_pj_num   194395 non-null  int64  \n",
      " 8   fbz_bei_pingl_pj_num  194395 non-null  int64  \n",
      " 9   fbz_bei_zan_pj_num    194395 non-null  int64  \n",
      " 10  zfz_fan_num           194395 non-null  int64  \n",
      " 11  zfz_guanzh_num        194395 non-null  int64  \n",
      " 12  zfz_zf_lv             194395 non-null  float64\n",
      " 13  zfz_active            194395 non-null  float64\n",
      " 14  zfz_guanzhu_interest  194395 non-null  float64\n",
      " 15  afz_retweet_interest  194395 non-null  float64\n",
      " 16  re_result             194395 non-null  int64  \n",
      "dtypes: float64(4), int64(13)\n",
      "memory usage: 25.2 MB\n",
      "None\n"
     ]
    }
   ],
   "source": [
    "print(df.info())"
   ]
  },
  {
   "attachments": {},
   "cell_type": "markdown",
   "metadata": {},
   "source": [
    "归一化"
   ]
  },
  {
   "cell_type": "code",
   "execution_count": 21,
   "metadata": {},
   "outputs": [],
   "source": [
    "from sklearn.preprocessing import MinMaxScaler\n",
    "\n",
    "data_set = df.copy()\n",
    "scaler = {}  # 创建一个字典，存储每一列不同归一化参数的函数\n",
    "for i in range(len(data_set.columns)-1):\n",
    "    scaler[i] = MinMaxScaler(feature_range=(-1, 1))\n",
    "    data_set.iloc[:, i] = scaler[i].fit_transform(data_set.iloc[:, i].values.reshape(-1, 1))"
   ]
  },
  {
   "attachments": {},
   "cell_type": "markdown",
   "metadata": {},
   "source": [
    "切割数据集"
   ]
  },
  {
   "cell_type": "code",
   "execution_count": 22,
   "metadata": {},
   "outputs": [],
   "source": [
    "from sklearn.model_selection import train_test_split\n",
    "\n",
    "all_inputs = data_set.iloc[:,:-1].values\n",
    "all_re_result = data_set['re_result'].values\n",
    "\n",
    "x_train, x_test, y_train, y_test = train_test_split(all_inputs, all_re_result, train_size=0.8, random_state=1)"
   ]
  },
  {
   "attachments": {},
   "cell_type": "markdown",
   "metadata": {},
   "source": [
    "使用决策树算法进行分析"
   ]
  },
  {
   "cell_type": "code",
   "execution_count": 23,
   "metadata": {},
   "outputs": [
    {
     "data": {
      "text/plain": [
       "0.9995370251292471"
      ]
     },
     "execution_count": 23,
     "metadata": {},
     "output_type": "execute_result"
    }
   ],
   "source": [
    "from sklearn.tree import DecisionTreeClassifier\n",
    "\n",
    "#定义一个决策树的对象\n",
    "decision_tree_classifier = DecisionTreeClassifier()\n",
    "\n",
    "#训练模型\n",
    "decision_tree_classifier.fit(x_train, y_train)\n",
    "\n",
    "#所得模型的准确性\n",
    "decision_tree_classifier.score(x_test, y_test)"
   ]
  },
  {
   "attachments": {},
   "cell_type": "markdown",
   "metadata": {},
   "source": [
    "交叉验证"
   ]
  },
  {
   "cell_type": "code",
   "execution_count": 24,
   "metadata": {},
   "outputs": [
    {
     "name": "stdout",
     "output_type": "stream",
     "text": [
      "[0.97633745 0.99876543 0.99794239 0.99927984 0.99501029 0.99948557\n",
      " 0.99845671 0.99665621 0.99933124 0.99639899]\n"
     ]
    },
    {
     "data": {
      "text/plain": [
       "Text(0.5, 1.0, 'Average score: 0.9957664111559703')"
      ]
     },
     "execution_count": 24,
     "metadata": {},
     "output_type": "execute_result"
    },
    {
     "data": {
      "image/png": "[encoded data removed]",
      "text/plain": [
       "<Figure size 360x360 with 1 Axes>"
      ]
     },
     "metadata": {
      "needs_background": "light"
     },
     "output_type": "display_data"
    }
   ],
   "source": [
    "from sklearn.model_selection import cross_val_score\n",
    "import matplotlib.pyplot as plt\n",
    "import seaborn as sb\n",
    "import numpy as np\n",
    "\n",
    "decision_tree_classifier = DecisionTreeClassifier()\n",
    "\n",
    "cv_scores = cross_val_score(decision_tree_classifier, all_inputs, all_re_result, cv=10)#cv：选择每次测试折数 \n",
    "print (cv_scores)\n",
    "\n",
    "sb.displot(cv_scores)\n",
    "plt.title('Average score: {}'.format(np.mean(cv_scores)))"
   ]
  },
  {
   "cell_type": "code",
   "execution_count": 25,
   "metadata": {},
   "outputs": [
    {
     "name": "stdout",
     "output_type": "stream",
     "text": [
      "[0.97932099 0.98564815 0.98600823 0.99089506 0.98338477 0.9813262\n",
      " 0.98472144 0.98420701 0.98667627 0.98708781]\n"
     ]
    },
    {
     "data": {
      "text/plain": [
       "Text(0.5, 1.0, 'Average score: 0.9849275926889158')"
      ]
     },
     "execution_count": 25,
     "metadata": {},
     "output_type": "execute_result"
    },
    {
     "data": {
      "image/png": "[encoded data removed]",
      "text/plain": [
       "<Figure size 360x360 with 1 Axes>"
      ]
     },
     "metadata": {
      "needs_background": "light"
     },
     "output_type": "display_data"
    }
   ],
   "source": [
    "decision_tree_classifier = DecisionTreeClassifier(max_depth=1)\n",
    "\n",
    "cv_scores = cross_val_score(decision_tree_classifier, all_inputs, all_re_result, cv=10)\n",
    "print (cv_scores)\n",
    "sb.displot(cv_scores, kde=False)\n",
    "plt.title('Average score: {}'.format(np.mean(cv_scores)))"
   ]
  },
  {
   "attachments": {},
   "cell_type": "markdown",
   "metadata": {},
   "source": [
    "使用GridSearchCV网格搜索进行自动调参，把参数输进去，能给出最优化的结果和参数"
   ]
  },
  {
   "cell_type": "code",
   "execution_count": 26,
   "metadata": {},
   "outputs": [
    {
     "name": "stdout",
     "output_type": "stream",
     "text": [
      "Best score: 0.9899070321700657\n",
      "Best parameters: {'max_depth': 5, 'max_features': 4}\n"
     ]
    }
   ],
   "source": [
    "from sklearn.model_selection import GridSearchCV\n",
    "from sklearn.model_selection import StratifiedKFold\n",
    "\n",
    "decision_tree_classifier = DecisionTreeClassifier()\n",
    "\n",
    "parameter_grid = {'max_depth': [1, 2, 3, 4, 5],\n",
    "                  'max_features': [1, 2, 3, 4]}\n",
    "\n",
    "cross_validation  = StratifiedKFold(n_splits = 10, shuffle=True)  \n",
    "cross_validation.get_n_splits(all_re_result)\n",
    "\n",
    "grid_search = GridSearchCV(decision_tree_classifier,\n",
    "                           param_grid=parameter_grid,\n",
    "                           cv=cross_validation)\n",
    "\n",
    "grid_search.fit(all_inputs, all_re_result)\n",
    "print('Best score: {}'.format(grid_search.best_score_))\n",
    "print('Best parameters: {}'.format(grid_search.best_params_))"
   ]
  }
 ],
 "metadata": {
  "kernelspec": {
   "display_name": "base",
   "language": "python",
   "name": "python3"
  },
  "language_info": {
   "codemirror_mode": {
    "name": "ipython",
    "version": 3
   },
   "file_extension": ".py",
   "mimetype": "text/x-python",
   "name": "python",
   "nbconvert_exporter": "python",
   "pygments_lexer": "ipython3",
   "version": "3.9.12 (main, Apr  4 2022, 05:22:27) [MSC v.1916 64 bit (AMD64)]"
  },
  "orig_nbformat": 4,
  "vscode": {
   "interpreter": {
    "hash": "49cb93f377a7abe7414b7b0f21fb3017538004a126cf690fb524202736b7fb92"
   }
  }
 },
 "nbformat": 4,
 "nbformat_minor": 2
}
